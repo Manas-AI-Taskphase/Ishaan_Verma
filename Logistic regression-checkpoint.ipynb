{
 "cells": [
  {
   "cell_type": "code",
   "execution_count": 2,
   "id": "0bf21c58-3ed2-4c45-b122-c92399f46543",
   "metadata": {},
   "outputs": [],
   "source": [
    "import pandas as pd\n",
    "import matplotlib.pyplot as plt\n",
    "import numpy as np"
   ]
  },
  {
   "cell_type": "code",
   "execution_count": 11,
   "id": "aa398266-d253-4329-9af5-f40b72c89a15",
   "metadata": {},
   "outputs": [
    {
     "name": "stderr",
     "output_type": "stream",
     "text": [
      "C:\\Users\\Ishaan Verma\\AppData\\Local\\Temp\\ipykernel_24768\\279702498.py:5: FutureWarning: Downcasting behavior in `replace` is deprecated and will be removed in a future version. To retain the old behavior, explicitly call `result.infer_objects(copy=False)`. To opt-in to the future behavior, set `pd.set_option('future.no_silent_downcasting', True)`\n",
      "  X_train = X_train.replace(\"male\",1).replace(\"female\",0).values.T\n",
      "C:\\Users\\Ishaan Verma\\AppData\\Local\\Temp\\ipykernel_24768\\279702498.py:10: FutureWarning: Downcasting behavior in `replace` is deprecated and will be removed in a future version. To retain the old behavior, explicitly call `result.infer_objects(copy=False)`. To opt-in to the future behavior, set `pd.set_option('future.no_silent_downcasting', True)`\n",
      "  X_test = X_test.replace(\"male\",1).replace(\"female\",0).values.T\n"
     ]
    }
   ],
   "source": [
    "train_data = pd.read_csv(\"C:\\\\Users\\\\Ishaan Verma\\\\Downloads\\\\train_log.csv\")\n",
    "test_data = pd.read_csv(\"C:\\\\Users\\\\Ishaan Verma\\\\Downloads\\\\test_log.csv\")\n",
    "\n",
    "X_train = train_data.drop('Survived', axis = 1).drop('Name', axis = 1)\n",
    "X_train = X_train.replace(\"male\",1).replace(\"female\",0).values.T\n",
    "y_train = np.zeros(train_data.shape[0])\n",
    "y_train = train_data.Survived.values.reshape(1,y_train.shape[0])\n",
    "\n",
    "X_test = test_data.drop('Survived', axis = 1).drop('Name', axis = 1)\n",
    "X_test = X_test.replace(\"male\",1).replace(\"female\",0).values.T\n",
    "y_test = np.zeros(test_data.shape[0])\n",
    "y_test = test_data.Survived.values.reshape(1,y_test.shape[0])"
   ]
  },
  {
   "cell_type": "code",
   "execution_count": 12,
   "id": "2a71375f-0fa3-4d1b-82e3-874c705a03f2",
   "metadata": {},
   "outputs": [],
   "source": [
    "def sigmoid(x):\n",
    "    return 1/(1 + np.exp(-x))"
   ]
  },
  {
   "cell_type": "code",
   "execution_count": 22,
   "id": "0f94b7f9-b24f-4289-8f17-2fb3b8e0193c",
   "metadata": {},
   "outputs": [],
   "source": [
    "def model(X, Y, learning_rate, iterations):    \n",
    "    m = X_train.shape[1]\n",
    "    n = X_train.shape[0]    \n",
    "    W = np.zeros((n,1))\n",
    "    B = 0   \n",
    "    cost_list = []    \n",
    "    for i in range(iterations):        \n",
    "        Z = np.dot(W.T, X) + B\n",
    "        A = sigmoid(Z)  \n",
    "        cost = -(1/m)*np.sum( Y*np.log(A) + (1-Y)*np.log(1-A))\n",
    "        dW = (1/m)*np.dot(A-Y, X.T)\n",
    "        dB = (1/m)*np.sum(A - Y)        \n",
    "        W = W - learning_rate*dW.T\n",
    "        B = B - learning_rate*dB\n",
    "        cost_list.append(cost)        \n",
    "        if(i%(iterations/10) == 0):\n",
    "            print(\"cost after \", i, \"iteration is : \", cost)        \n",
    "    return W, B, cost_list"
   ]
  },
  {
   "cell_type": "code",
   "execution_count": 43,
   "id": "f0059853-2468-46e2-b9ba-a17d672468d6",
   "metadata": {},
   "outputs": [
    {
     "name": "stdout",
     "output_type": "stream",
     "text": [
      "cost after  0 iteration is :  0.6931471805599453\n",
      "cost after  10000 iteration is :  0.608901848121535\n",
      "cost after  20000 iteration is :  0.5830223306543206\n",
      "cost after  30000 iteration is :  0.5778786424076084\n",
      "cost after  40000 iteration is :  0.5751779903856169\n",
      "cost after  50000 iteration is :  0.5731863556319602\n",
      "cost after  60000 iteration is :  0.5716059838977249\n",
      "cost after  70000 iteration is :  0.5703191247069832\n",
      "cost after  80000 iteration is :  0.5692550304280208\n",
      "cost after  90000 iteration is :  0.5683656691310691\n"
     ]
    }
   ],
   "source": [
    "iterations = 100000\n",
    "learning_rate = 0.0055\n",
    "W, B, cost_list = model(X_train, y_train, learning_rate = learning_rate, iterations = iterations)"
   ]
  },
  {
   "cell_type": "code",
   "execution_count": 19,
   "id": "75d5f09d-6739-4dde-a7d6-edfbf6644b24",
   "metadata": {},
   "outputs": [
    {
     "data": {
      "image/png": "[encoded data removed]",
      "text/plain": [
       "<Figure size 640x480 with 1 Axes>"
      ]
     },
     "metadata": {},
     "output_type": "display_data"
    }
   ],
   "source": [
    "plt.plot(np.arange(iterations), cost_list)\n",
    "plt.show()"
   ]
  },
  {
   "cell_type": "code",
   "execution_count": 25,
   "id": "70fc5e40-6569-412a-b5f6-528f0fc2bfd1",
   "metadata": {},
   "outputs": [],
   "source": [
    "def accuracy(X, Y, W, B):    \n",
    "    Z = np.dot(W.T, X) + B\n",
    "    A = sigmoid(Z)    \n",
    "    A = A > 0.5  \n",
    "    A = np.array(A, dtype = 'int64')   \n",
    "    acc = (1 - np.sum(np.absolute(A - Y))/Y.shape[1])*100    \n",
    "    print(\"Accuracy of the model is : \", round(acc, 2), \"%\")"
   ]
  },
  {
   "cell_type": "code",
   "execution_count": 44,
   "id": "0a041a38-b6b4-4604-aab5-9f41904c9983",
   "metadata": {},
   "outputs": [
    {
     "name": "stdout",
     "output_type": "stream",
     "text": [
      "Accuracy of the model is :  80.65 %\n"
     ]
    }
   ],
   "source": [
    "accuracy(X_test, y_test, W, B)"
   ]
  }
 ],
 "metadata": {
  "kernelspec": {
   "display_name": "Python 3 (ipykernel)",
   "language": "python",
   "name": "python3"
  },
  "language_info": {
   "codemirror_mode": {
    "name": "ipython",
    "version": 3
   },
   "file_extension": ".py",
   "mimetype": "text/x-python",
   "name": "python",
   "nbconvert_exporter": "python",
   "pygments_lexer": "ipython3",
   "version": "3.12.1"
  }
 },
 "nbformat": 4,
 "nbformat_minor": 5
}
