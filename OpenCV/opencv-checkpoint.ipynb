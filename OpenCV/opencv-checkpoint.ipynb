{
 "cells": [
  {
   "cell_type": "code",
   "execution_count": 171,
   "id": "760f1405-3564-470d-96ed-6e610f27bdf4",
   "metadata": {},
   "outputs": [],
   "source": [
    "import cv2\n",
    "import numpy as np\n",
    "hsv_l = np.array([9, 119, 126])\n",
    "hsv_u = np.array([44, 255, 211])\n",
    "yuv_l = np.array([50, 67, 139])\n",
    "yuv_u = np.array([226, 104, 183])\n",
    "cap=cv2.VideoCapture(\"C:\\\\Users\\\\Ishaan Verma\\\\Downloads\\\\volleyball_match.mp4\")\n",
    "count=0"
   ]
  },
  {
   "cell_type": "code",
   "execution_count": 172,
   "id": "c492bb20-4b95-4268-93bc-e032b235b276",
   "metadata": {},
   "outputs": [],
   "source": [
    "while True:\n",
    "    ret, img = cap.read()    \n",
    "    if not ret: break   \n",
    "    blur = cv2.GaussianBlur(img, (5, 5), sigmaX = 20)\n",
    "    #blur = cv2.bilateralFilter(img, d=5, sigmaColor=60, sigmaSpace=130)\n",
    "    hsv_frame = cv2.cvtColor(blur, cv2.COLOR_BGR2HSV)\n",
    "    yuv_frame = cv2.cvtColor(blur, cv2.COLOR_BGR2YUV)    \n",
    "    mask1 = cv2.inRange(hsv_frame, hsv_l, hsv_u)\n",
    "    mask2 = cv2.inRange(yuv_frame, yuv_l, yuv_u)\n",
    "    mask = cv2.bitwise_or(mask1, mask2)    \n",
    "    contours, _ = cv2.findContours(mask.copy(), cv2.RETR_EXTERNAL, cv2.CHAIN_APPROX_SIMPLE)\n",
    "    for i in contours:\n",
    "        ((x, y), rad) = cv2.minEnclosingCircle(i)\n",
    "        if rad < 6 and rad > 2:\n",
    "            cv2.circle(img, (int(x), int(y)), int(rad), (255,0,0), 2)\n",
    "            count=count+1\n",
    "            #cv2.circle(img, (int(x), int(y)), 1, (255,0,0), 2)\n",
    "            cv2.putText(img, 'ball', (int(x-rad),int(y-rad)), cv2.FONT_HERSHEY_SIMPLEX, 0.7,(255,0,0),2)            \n",
    "        if rad < 100 and rad > 15:\n",
    "            cv2.circle(img, (int(x), int(y)), int(rad), (255, 255, 0), 2)\n",
    "            cv2.putText(img, 'player', (int(x-rad),int(y-rad)), cv2.FONT_HERSHEY_SIMPLEX, 0.5,(255,255,0),2)\n",
    "        cv2.imshow('Video', img)\n",
    "        cv2.imshow(\"video\",mask)\n",
    "    if cv2.waitKey(5) & 0xFF == 27:\n",
    "        break\n",
    "cap.release()\n",
    "cv2.destroyAllWindows()"
   ]
  }
 ],
 "metadata": {
  "kernelspec": {
   "display_name": "Python 3 (ipykernel)",
   "language": "python",
   "name": "python3"
  },
  "language_info": {
   "codemirror_mode": {
    "name": "ipython",
    "version": 3
   },
   "file_extension": ".py",
   "mimetype": "text/x-python",
   "name": "python",
   "nbconvert_exporter": "python",
   "pygments_lexer": "ipython3",
   "version": "3.12.1"
  }
 },
 "nbformat": 4,
 "nbformat_minor": 5
}
