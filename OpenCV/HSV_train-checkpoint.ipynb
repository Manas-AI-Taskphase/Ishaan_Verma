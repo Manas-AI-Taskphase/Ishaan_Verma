{
 "cells": [
  {
   "cell_type": "code",
   "execution_count": 2,
   "id": "d354817c-7a62-4086-b96e-5e8ceb7828c3",
   "metadata": {},
   "outputs": [],
   "source": [
    "import cv2\n",
    "import numpy as np\n",
    "def nothing(x):\n",
    "    pass\n",
    "cap=cv2.VideoCapture(\"C:\\\\Users\\\\Ishaan Verma\\\\Downloads\\\\volleyball_match.mp4\")\n",
    "cv2.namedWindow(\"track\")\n",
    "cv2.createTrackbar(\"Lower_hue\",\"track\",0,255,nothing)\n",
    "cv2.createTrackbar(\"Lower_sat\",\"track\",0,255,nothing)\n",
    "cv2.createTrackbar(\"Lower_val\",\"track\",0,255,nothing)\n",
    "cv2.createTrackbar(\"upper_hue\",\"track\",255,255,nothing)\n",
    "cv2.createTrackbar(\"upper_sat\",\"track\",255,255,nothing)\n",
    "cv2.createTrackbar(\"upper_val\",\"track\",255,255,nothing)\n",
    "while True:\n",
    "    ret, frame = cap.read()\n",
    "    if not ret:\n",
    "        print(\"Error: Could not read frame.\")\n",
    "        break\n",
    "    hsv=cv2.cvtColor(frame,cv2.COLOR_BGR2HSV)\n",
    "    lower_hue=cv2.getTrackbarPos(\"Lower_hue\",\"track\")\n",
    "    lower_sat=cv2.getTrackbarPos(\"Lower_sat\",\"track\")\n",
    "    lower_val=cv2.getTrackbarPos(\"Lower_val\",\"track\")\n",
    "    upper_hue=cv2.getTrackbarPos(\"upper_hue\",\"track\")\n",
    "    upper_sat=cv2.getTrackbarPos(\"upper_sat\",\"track\")\n",
    "    upper_val=cv2.getTrackbarPos(\"upper_val\",\"track\")\n",
    "    low=np.array([lower_hue,lower_sat,lower_val])\n",
    "    upper=np.array([upper_hue,upper_sat,upper_val])      \n",
    "    mask = cv2.inRange(hsv, low, upper)\n",
    "    res = cv2.bitwise_and(frame, frame, mask=mask)\n",
    "    cv2.imshow(\"frame\", frame)\n",
    "    cv2.imshow(\"mask\", mask)\n",
    "    cv2.imshow(\"res\", res)\n",
    "    key = cv2.waitKey(1)\n",
    "    if key == 27:\n",
    "        break\n",
    "cap.release()\n",
    "cv2.destroyAllWindows()"
   ]
  },
  {
   "cell_type": "code",
   "execution_count": null,
   "id": "c40d1236-220d-4a11-a461-2fb14e9bbd69",
   "metadata": {},
   "outputs": [],
   "source": []
  }
 ],
 "metadata": {
  "kernelspec": {
   "display_name": "Python 3 (ipykernel)",
   "language": "python",
   "name": "python3"
  },
  "language_info": {
   "codemirror_mode": {
    "name": "ipython",
    "version": 3
   },
   "file_extension": ".py",
   "mimetype": "text/x-python",
   "name": "python",
   "nbconvert_exporter": "python",
   "pygments_lexer": "ipython3",
   "version": "3.12.1"
  }
 },
 "nbformat": 4,
 "nbformat_minor": 5
}
