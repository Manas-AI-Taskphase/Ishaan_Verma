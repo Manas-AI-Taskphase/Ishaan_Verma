{
 "cells": [
  {
   "cell_type": "code",
   "execution_count": 5,
   "id": "c2e50e67-2448-4359-bbc9-990842ec4cbc",
   "metadata": {},
   "outputs": [
    {
     "name": "stdout",
     "output_type": "stream",
     "text": [
      "[ 51  65 139]\n",
      "[227 102 182]\n"
     ]
    }
   ],
   "source": [
    "import cv2\n",
    "import numpy as np\n",
    "def nothing(x):\n",
    "    pass\n",
    "cap=cv2.VideoCapture(\"C:\\\\Users\\\\Ishaan Verma\\\\Downloads\\\\volleyball_match.mp4\")\n",
    "cv2.namedWindow(\"track\")\n",
    "cv2.createTrackbar(\"l_y\",\"track\",0,255,nothing)\n",
    "cv2.createTrackbar(\"l_u\",\"track\",0,255,nothing)\n",
    "cv2.createTrackbar(\"l_v\",\"track\",0,255,nothing)\n",
    "cv2.createTrackbar(\"u_y\",\"track\",255,255,nothing)\n",
    "cv2.createTrackbar(\"u_u\",\"track\",255,255,nothing)\n",
    "cv2.createTrackbar(\"u_v\",\"track\",255,255,nothing)\n",
    "while True:\n",
    "    ret, frame = cap.read()\n",
    "    if not ret:\n",
    "        print(\"Error: Could not read frame.\")\n",
    "        break\n",
    "    hsv=cv2.cvtColor(frame,cv2.COLOR_BGR2YUV)\n",
    "    l_y=cv2.getTrackbarPos(\"l_y\",\"track\")\n",
    "    l_u=cv2.getTrackbarPos(\"l_u\",\"track\")\n",
    "    l_v=cv2.getTrackbarPos(\"l_v\",\"track\")\n",
    "    u_y=cv2.getTrackbarPos(\"u_y\",\"track\")\n",
    "    u_u=cv2.getTrackbarPos(\"u_u\",\"track\")\n",
    "    u_v=cv2.getTrackbarPos(\"u_v\",\"track\")\n",
    "    low=np.array([l_y,l_u,l_v])\n",
    "    upper=np.array([u_y,u_u,u_v])  \n",
    "    \n",
    "    mask = cv2.inRange(hsv, low, upper)\n",
    "    res = cv2.bitwise_and(frame, frame, mask=mask)\n",
    "    cv2.imshow(\"frame\", frame)\n",
    "    cv2.imshow(\"mask\", mask)\n",
    "    cv2.imshow(\"res\", res)\n",
    "    key = cv2.waitKey(1)\n",
    "    if key == 27:\n",
    "        break\n",
    "cap.release()\n",
    "cv2.destroyAllWindows()"
   ]
  },
  {
   "cell_type": "code",
   "execution_count": null,
   "id": "c49c53d3-8781-44f5-b565-5c023f46e0bb",
   "metadata": {},
   "outputs": [],
   "source": []
  }
 ],
 "metadata": {
  "kernelspec": {
   "display_name": "Python 3 (ipykernel)",
   "language": "python",
   "name": "python3"
  },
  "language_info": {
   "codemirror_mode": {
    "name": "ipython",
    "version": 3
   },
   "file_extension": ".py",
   "mimetype": "text/x-python",
   "name": "python",
   "nbconvert_exporter": "python",
   "pygments_lexer": "ipython3",
   "version": "3.12.1"
  }
 },
 "nbformat": 4,
 "nbformat_minor": 5
}
